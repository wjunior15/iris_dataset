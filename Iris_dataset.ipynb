{
  "nbformat": 4,
  "nbformat_minor": 0,
  "metadata": {
    "colab": {
      "name": "Iris_dataset.ipynb",
      "provenance": [],
      "mount_file_id": "1pNFHEJCEs6IswMy6EiQi3NHnMWn2K0Qf",
      "authorship_tag": "ABX9TyO+mYaOB/tmCjYvw5/cQt1w",
      "include_colab_link": true
    },
    "kernelspec": {
      "name": "python3",
      "display_name": "Python 3"
    }
  },
  "cells": [
    {
      "cell_type": "markdown",
      "metadata": {
        "id": "view-in-github",
        "colab_type": "text"
      },
      "source": [
        "<a href=\"https://colab.research.google.com/github/wjunior15/iris_dataset/blob/main/Iris_dataset.ipynb\" target=\"_parent\"><img src=\"https://colab.research.google.com/assets/colab-badge.svg\" alt=\"Open In Colab\"/></a>"
      ]
    },
    {
      "cell_type": "markdown",
      "metadata": {
        "id": "_KGSDljywICn"
      },
      "source": [
        "##Classificação de Flores usando Python\n",
        "link dataset: [Iris Data Set](https://archive.ics.uci.edu/ml/datasets/Iris)\n",
        "\n"
      ]
    },
    {
      "cell_type": "code",
      "metadata": {
        "id": "vh84K02RvO_G"
      },
      "source": [
        "import pandas as pd\n",
        "import numpy as np\n",
        "import matplotlib.pyplot as plt\n",
        "import seaborn as sns"
      ],
      "execution_count": 1,
      "outputs": []
    },
    {
      "cell_type": "code",
      "metadata": {
        "id": "GnNBP75VvyOG",
        "colab": {
          "base_uri": "https://localhost:8080/",
          "height": 204
        },
        "outputId": "3b35ebf9-8718-417a-aa7c-ec12f902e750"
      },
      "source": [
        "dados = pd.read_csv('https://gist.githubusercontent.com/netj/8836201/raw/6f9306ad21398ea43cba4f7d537619d0e07d5ae3/iris.csv')\n",
        "dados.head()"
      ],
      "execution_count": 2,
      "outputs": [
        {
          "output_type": "execute_result",
          "data": {
            "text/html": [
              "<div>\n",
              "<style scoped>\n",
              "    .dataframe tbody tr th:only-of-type {\n",
              "        vertical-align: middle;\n",
              "    }\n",
              "\n",
              "    .dataframe tbody tr th {\n",
              "        vertical-align: top;\n",
              "    }\n",
              "\n",
              "    .dataframe thead th {\n",
              "        text-align: right;\n",
              "    }\n",
              "</style>\n",
              "<table border=\"1\" class=\"dataframe\">\n",
              "  <thead>\n",
              "    <tr style=\"text-align: right;\">\n",
              "      <th></th>\n",
              "      <th>sepal.length</th>\n",
              "      <th>sepal.width</th>\n",
              "      <th>petal.length</th>\n",
              "      <th>petal.width</th>\n",
              "      <th>variety</th>\n",
              "    </tr>\n",
              "  </thead>\n",
              "  <tbody>\n",
              "    <tr>\n",
              "      <th>0</th>\n",
              "      <td>5.1</td>\n",
              "      <td>3.5</td>\n",
              "      <td>1.4</td>\n",
              "      <td>0.2</td>\n",
              "      <td>Setosa</td>\n",
              "    </tr>\n",
              "    <tr>\n",
              "      <th>1</th>\n",
              "      <td>4.9</td>\n",
              "      <td>3.0</td>\n",
              "      <td>1.4</td>\n",
              "      <td>0.2</td>\n",
              "      <td>Setosa</td>\n",
              "    </tr>\n",
              "    <tr>\n",
              "      <th>2</th>\n",
              "      <td>4.7</td>\n",
              "      <td>3.2</td>\n",
              "      <td>1.3</td>\n",
              "      <td>0.2</td>\n",
              "      <td>Setosa</td>\n",
              "    </tr>\n",
              "    <tr>\n",
              "      <th>3</th>\n",
              "      <td>4.6</td>\n",
              "      <td>3.1</td>\n",
              "      <td>1.5</td>\n",
              "      <td>0.2</td>\n",
              "      <td>Setosa</td>\n",
              "    </tr>\n",
              "    <tr>\n",
              "      <th>4</th>\n",
              "      <td>5.0</td>\n",
              "      <td>3.6</td>\n",
              "      <td>1.4</td>\n",
              "      <td>0.2</td>\n",
              "      <td>Setosa</td>\n",
              "    </tr>\n",
              "  </tbody>\n",
              "</table>\n",
              "</div>"
            ],
            "text/plain": [
              "   sepal.length  sepal.width  petal.length  petal.width variety\n",
              "0           5.1          3.5           1.4          0.2  Setosa\n",
              "1           4.9          3.0           1.4          0.2  Setosa\n",
              "2           4.7          3.2           1.3          0.2  Setosa\n",
              "3           4.6          3.1           1.5          0.2  Setosa\n",
              "4           5.0          3.6           1.4          0.2  Setosa"
            ]
          },
          "metadata": {
            "tags": []
          },
          "execution_count": 2
        }
      ]
    },
    {
      "cell_type": "code",
      "metadata": {
        "id": "k-GLet79zClw",
        "colab": {
          "base_uri": "https://localhost:8080/"
        },
        "outputId": "421ea0f7-3f3d-4720-ec7b-f27f2c79e0c7"
      },
      "source": [
        "dados['variety'].value_counts()"
      ],
      "execution_count": 3,
      "outputs": [
        {
          "output_type": "execute_result",
          "data": {
            "text/plain": [
              "Setosa        50\n",
              "Virginica     50\n",
              "Versicolor    50\n",
              "Name: variety, dtype: int64"
            ]
          },
          "metadata": {
            "tags": []
          },
          "execution_count": 3
        }
      ]
    },
    {
      "cell_type": "code",
      "metadata": {
        "id": "nE5X1BC8aNBS"
      },
      "source": [
        "dados_setosa = dados.query(\"variety == 'Setosa'\")\r\n",
        "dados_virginica = dados.query(\"variety == 'Virginica'\")\r\n",
        "dados_versicolor = dados.query(\"variety == 'Versicolor'\")"
      ],
      "execution_count": 5,
      "outputs": []
    },
    {
      "cell_type": "code",
      "metadata": {
        "colab": {
          "base_uri": "https://localhost:8080/",
          "height": 483
        },
        "id": "JP7h140sbNqh",
        "outputId": "0edcb1c4-7d17-4fb9-8d4a-82a8e4caddab"
      },
      "source": [
        "plt.figure(figsize = (16, 8))\r\n",
        "plt.scatter(dados_setosa['petal.length'],dados_setosa['petal.width'],c = 'red', marker = 'x')\r\n",
        "plt.scatter(dados_virginica['petal.length'],dados_virginica['petal.width'],c = 'black', marker = 'o')\r\n",
        "plt.scatter(dados_versicolor['petal.length'],dados_versicolor['petal.width'],c = 'green', marker = 'v')\r\n",
        "plt.grid()\r\n",
        "plt.show()"
      ],
      "execution_count": 15,
      "outputs": [
        {
          "output_type": "display_data",
          "data": {
            "image/png": "[encoded data removed]",
            "text/plain": [
              "<Figure size 1152x576 with 1 Axes>"
            ]
          },
          "metadata": {
            "tags": [],
            "needs_background": "light"
          }
        }
      ]
    },
    {
      "cell_type": "code",
      "metadata": {
        "colab": {
          "base_uri": "https://localhost:8080/",
          "height": 483
        },
        "id": "092ETtYkcZE2",
        "outputId": "5d225d8d-231f-443c-9728-d3d16f8f156f"
      },
      "source": [
        "plt.figure(figsize = (16, 8))\r\n",
        "plt.scatter(dados_setosa['sepal.length'],dados_setosa['sepal.width'],c = 'red', marker = 'x')\r\n",
        "plt.scatter(dados_virginica['sepal.length'],dados_virginica['sepal.width'],c = 'black', marker = 'o')\r\n",
        "plt.scatter(dados_versicolor['sepal.length'],dados_versicolor['sepal.width'],c = 'green', marker = 'v')\r\n",
        "plt.grid()\r\n",
        "plt.show()"
      ],
      "execution_count": 16,
      "outputs": [
        {
          "output_type": "display_data",
          "data": {
            "image/png": "[encoded data removed]",
            "text/plain": [
              "<Figure size 1152x576 with 1 Axes>"
            ]
          },
          "metadata": {
            "tags": [],
            "needs_background": "light"
          }
        }
      ]
    },
    {
      "cell_type": "code",
      "metadata": {
        "colab": {
          "base_uri": "https://localhost:8080/",
          "height": 483
        },
        "id": "2b47tKSGd7sM",
        "outputId": "f606bbf4-eb6f-40bb-a5d6-aa98424822cc"
      },
      "source": [
        "plt.figure(figsize = (16, 8))\r\n",
        "plt.scatter(dados_setosa['petal.length'],dados_setosa['sepal.length'],c = 'red', marker = 'x')\r\n",
        "plt.scatter(dados_virginica['petal.length'],dados_virginica['sepal.length'],c = 'black', marker = 'o')\r\n",
        "plt.scatter(dados_versicolor['petal.length'],dados_versicolor['sepal.length'],c = 'green', marker = 'v')\r\n",
        "plt.grid()\r\n",
        "plt.show()"
      ],
      "execution_count": 17,
      "outputs": [
        {
          "output_type": "display_data",
          "data": {
            "image/png": "[encoded data removed]",
            "text/plain": [
              "<Figure size 1152x576 with 1 Axes>"
            ]
          },
          "metadata": {
            "tags": [],
            "needs_background": "light"
          }
        }
      ]
    },
    {
      "cell_type": "code",
      "metadata": {
        "colab": {
          "base_uri": "https://localhost:8080/",
          "height": 483
        },
        "id": "co_DM0lLeIJ_",
        "outputId": "07b8b2eb-d4e4-4edc-84c7-b240cdacdc23"
      },
      "source": [
        "plt.figure(figsize = (16, 8))\r\n",
        "plt.scatter(dados_setosa['petal.width'],dados_setosa['sepal.width'],c = 'red', marker = 'x')\r\n",
        "plt.scatter(dados_virginica['petal.width'],dados_virginica['sepal.width'],c = 'black', marker = 'o')\r\n",
        "plt.scatter(dados_versicolor['petal.width'],dados_versicolor['sepal.width'],c = 'green', marker = 'v')\r\n",
        "plt.grid()\r\n",
        "plt.show()"
      ],
      "execution_count": 18,
      "outputs": [
        {
          "output_type": "display_data",
          "data": {
            "image/png": "[encoded data removed]",
            "text/plain": [
              "<Figure size 1152x576 with 1 Axes>"
            ]
          },
          "metadata": {
            "tags": [],
            "needs_background": "light"
          }
        }
      ]
    },
    {
      "cell_type": "markdown",
      "metadata": {
        "id": "bmVb-iy0aI0p"
      },
      "source": [
        "#Análise usando modelo de ML"
      ]
    },
    {
      "cell_type": "markdown",
      "metadata": {
        "id": "p4Ou6-eHnFEg"
      },
      "source": [
        "##Primeiro iremos usar apenas os dados de petal.width e petal.length"
      ]
    },
    {
      "cell_type": "code",
      "metadata": {
        "colab": {
          "base_uri": "https://localhost:8080/",
          "height": 204
        },
        "id": "1ZkijxYCe1s7",
        "outputId": "298586b7-927f-4445-e43a-0196101f7b7b"
      },
      "source": [
        "dados_modelo_1 = dados.iloc[:, [2, 3, 4]]\r\n",
        "dados_modelo_1.head()"
      ],
      "execution_count": 19,
      "outputs": [
        {
          "output_type": "execute_result",
          "data": {
            "text/html": [
              "<div>\n",
              "<style scoped>\n",
              "    .dataframe tbody tr th:only-of-type {\n",
              "        vertical-align: middle;\n",
              "    }\n",
              "\n",
              "    .dataframe tbody tr th {\n",
              "        vertical-align: top;\n",
              "    }\n",
              "\n",
              "    .dataframe thead th {\n",
              "        text-align: right;\n",
              "    }\n",
              "</style>\n",
              "<table border=\"1\" class=\"dataframe\">\n",
              "  <thead>\n",
              "    <tr style=\"text-align: right;\">\n",
              "      <th></th>\n",
              "      <th>petal.length</th>\n",
              "      <th>petal.width</th>\n",
              "      <th>variety</th>\n",
              "    </tr>\n",
              "  </thead>\n",
              "  <tbody>\n",
              "    <tr>\n",
              "      <th>0</th>\n",
              "      <td>1.4</td>\n",
              "      <td>0.2</td>\n",
              "      <td>Setosa</td>\n",
              "    </tr>\n",
              "    <tr>\n",
              "      <th>1</th>\n",
              "      <td>1.4</td>\n",
              "      <td>0.2</td>\n",
              "      <td>Setosa</td>\n",
              "    </tr>\n",
              "    <tr>\n",
              "      <th>2</th>\n",
              "      <td>1.3</td>\n",
              "      <td>0.2</td>\n",
              "      <td>Setosa</td>\n",
              "    </tr>\n",
              "    <tr>\n",
              "      <th>3</th>\n",
              "      <td>1.5</td>\n",
              "      <td>0.2</td>\n",
              "      <td>Setosa</td>\n",
              "    </tr>\n",
              "    <tr>\n",
              "      <th>4</th>\n",
              "      <td>1.4</td>\n",
              "      <td>0.2</td>\n",
              "      <td>Setosa</td>\n",
              "    </tr>\n",
              "  </tbody>\n",
              "</table>\n",
              "</div>"
            ],
            "text/plain": [
              "   petal.length  petal.width variety\n",
              "0           1.4          0.2  Setosa\n",
              "1           1.4          0.2  Setosa\n",
              "2           1.3          0.2  Setosa\n",
              "3           1.5          0.2  Setosa\n",
              "4           1.4          0.2  Setosa"
            ]
          },
          "metadata": {
            "tags": []
          },
          "execution_count": 19
        }
      ]
    },
    {
      "cell_type": "code",
      "metadata": {
        "id": "SU5_4BYTfGFr"
      },
      "source": [
        "x_1 = dados_modelo_1.iloc[:, :-1]\r\n",
        "y_1 = dados_modelo_1.iloc[:, 2]\r\n",
        "\r\n",
        "from sklearn.model_selection import train_test_split\r\n",
        "x_treino, x_teste, y_treino, y_teste = train_test_split(x_1, y_1, test_size = 0.20)"
      ],
      "execution_count": 20,
      "outputs": []
    },
    {
      "cell_type": "markdown",
      "metadata": {
        "id": "ouMoBSZJo7U5"
      },
      "source": [
        "###O método fit() calcula a média e o desvio padrão da distribuição para fazer a padronização dos dados.\n",
        "###E método transform() aplica os cálculos para fazer a transformação nos dados.\n"
      ]
    },
    {
      "cell_type": "code",
      "metadata": {
        "id": "XzzvpLcgn4Ba"
      },
      "source": [
        "## Padronização dos dados\n",
        "##Para deixar todos na mesma escala\n",
        "\n",
        "from sklearn.preprocessing import StandardScaler\n",
        "scaler = StandardScaler()\n",
        "scaler.fit(x_treino)\n",
        "\n",
        "x_treino_scaler = scaler.transform(x_treino)\n",
        "x_teste_scaler = scaler.transform(x_teste)"
      ],
      "execution_count": 21,
      "outputs": []
    },
    {
      "cell_type": "markdown",
      "metadata": {
        "id": "NLZ5I9iWp1nG"
      },
      "source": [
        "n_neighbors = 5 -> n_neighbors é o parametro para a classe, um valor para K\n",
        "\n",
        "Pode ser ajustado de acordo com o programa já que não existe um valor ideal, mas é recomendavél iniciá-lo em 5\n"
      ]
    },
    {
      "cell_type": "code",
      "metadata": {
        "id": "w4xJuapbpOBb",
        "colab": {
          "base_uri": "https://localhost:8080/"
        },
        "outputId": "ccb48367-37cb-499f-9b6c-50c05e1470a0"
      },
      "source": [
        "##Treino e previsões do algoritmo\n",
        "\n",
        "from sklearn.neighbors import KNeighborsClassifier\n",
        "\n",
        "modelo_1 = KNeighborsClassifier(n_neighbors= 5)\n",
        "modelo_1.fit(x_treino, y_treino)"
      ],
      "execution_count": 22,
      "outputs": [
        {
          "output_type": "execute_result",
          "data": {
            "text/plain": [
              "KNeighborsClassifier(algorithm='auto', leaf_size=30, metric='minkowski',\n",
              "                     metric_params=None, n_jobs=None, n_neighbors=5, p=2,\n",
              "                     weights='uniform')"
            ]
          },
          "metadata": {
            "tags": []
          },
          "execution_count": 22
        }
      ]
    },
    {
      "cell_type": "code",
      "metadata": {
        "colab": {
          "base_uri": "https://localhost:8080/"
        },
        "id": "ws4qXsiUgzar",
        "outputId": "efde191d-c757-4459-b887-9d49603e86d7"
      },
      "source": [
        "modelo_1_scaler = KNeighborsClassifier(n_neighbors = 5)\r\n",
        "modelo_1_scaler.fit(x_treino_scaler, y_treino)"
      ],
      "execution_count": 23,
      "outputs": [
        {
          "output_type": "execute_result",
          "data": {
            "text/plain": [
              "KNeighborsClassifier(algorithm='auto', leaf_size=30, metric='minkowski',\n",
              "                     metric_params=None, n_jobs=None, n_neighbors=5, p=2,\n",
              "                     weights='uniform')"
            ]
          },
          "metadata": {
            "tags": []
          },
          "execution_count": 23
        }
      ]
    },
    {
      "cell_type": "code",
      "metadata": {
        "id": "Q8LHHetypyXS"
      },
      "source": [
        "##Fazendo as predições usando .predict\n",
        "y_previsoes_1 = modelo_1.predict(x_teste)"
      ],
      "execution_count": 24,
      "outputs": []
    },
    {
      "cell_type": "code",
      "metadata": {
        "id": "Vj19KDM_hKtf"
      },
      "source": [
        "y_previsoes_1_scaler = modelo_1_scaler.predict(x_teste_scaler)"
      ],
      "execution_count": 25,
      "outputs": []
    },
    {
      "cell_type": "markdown",
      "metadata": {
        "id": "BgIodW3Mq0zX"
      },
      "source": [
        "Para avaliar um algoritmo, a matriz de confusão, a precisão, o recall e a pontuação f1 são as métricas mais utilizadas.\n",
        "\n",
        "###Calculo F1:\n",
        "F1 = 2 * (precision * recall) / (precision + recall)"
      ]
    },
    {
      "cell_type": "code",
      "metadata": {
        "id": "atza6LfKqZkr",
        "colab": {
          "base_uri": "https://localhost:8080/"
        },
        "outputId": "ce1dc4b7-9aa4-49cd-bc51-fb61764b228d"
      },
      "source": [
        "##Avaliação do Algoritmo\n",
        "\n",
        "from sklearn.metrics import accuracy_score, f1_score\n",
        "\n",
        "print(accuracy_score(y_teste, y_previsoes_1))\n",
        "print(accuracy_score(y_teste, y_previsoes_1_scaler))"
      ],
      "execution_count": 27,
      "outputs": [
        {
          "output_type": "stream",
          "text": [
            "1.0\n",
            "1.0\n"
          ],
          "name": "stdout"
        }
      ]
    },
    {
      "cell_type": "markdown",
      "metadata": {
        "id": "-KUNBR_mm3nm"
      },
      "source": [
        "##Usando banco de dados completo para treinar modelo"
      ]
    },
    {
      "cell_type": "code",
      "metadata": {
        "id": "7fwXl8M-mbF-"
      },
      "source": [
        "##Divisão do dataframe entre rótulos e atributos\n",
        "##usando .iloc do pandas\n",
        "\n",
        "x = dados.iloc[:, :-1].values\n",
        "y = dados.iloc[:, 4].values"
      ],
      "execution_count": 29,
      "outputs": []
    },
    {
      "cell_type": "code",
      "metadata": {
        "id": "rOlURx89mu2C"
      },
      "source": [
        "##Para dividir os conjuntos entre teste e treino importamos\n",
        "#from sklearn.model_selection import train_test_split\n",
        "\n",
        "##Usaremos 80% dos dados para treino e 20% para teste\n",
        "\n",
        "x_treino_2, x_teste_2, y_treino_2, y_teste_2 = train_test_split(x, y, test_size = 0.20)"
      ],
      "execution_count": 30,
      "outputs": []
    },
    {
      "cell_type": "code",
      "metadata": {
        "id": "ZchtsXBAmnEM"
      },
      "source": [
        "scaler_2 = StandardScaler()\r\n",
        "scaler_2.fit(x_treino_2)\r\n",
        "\r\n",
        "x_treino_scaler_2 = scaler_2.transform(x_treino_2)\r\n",
        "x_teste_scaler_2 = scaler_2.transform(x_teste_2)"
      ],
      "execution_count": 33,
      "outputs": []
    },
    {
      "cell_type": "code",
      "metadata": {
        "colab": {
          "base_uri": "https://localhost:8080/"
        },
        "id": "dP9lveO8nRLd",
        "outputId": "861f9e86-2b11-4c03-878c-8738bac0557d"
      },
      "source": [
        "modelo_2 = KNeighborsClassifier(n_neighbors= 5)\r\n",
        "modelo_2.fit(x_treino_2, y_treino_2)"
      ],
      "execution_count": 34,
      "outputs": [
        {
          "output_type": "execute_result",
          "data": {
            "text/plain": [
              "KNeighborsClassifier(algorithm='auto', leaf_size=30, metric='minkowski',\n",
              "                     metric_params=None, n_jobs=None, n_neighbors=5, p=2,\n",
              "                     weights='uniform')"
            ]
          },
          "metadata": {
            "tags": []
          },
          "execution_count": 34
        }
      ]
    },
    {
      "cell_type": "code",
      "metadata": {
        "colab": {
          "base_uri": "https://localhost:8080/"
        },
        "id": "0TCtuB6knbVQ",
        "outputId": "c86f6f97-ada2-4d20-e3be-64db6dc96540"
      },
      "source": [
        "y_predict_2 = modelo_2.predict(x_teste_2)\r\n",
        "print(accuracy_score(y_teste_2, y_predict_2))\r\n"
      ],
      "execution_count": 35,
      "outputs": [
        {
          "output_type": "stream",
          "text": [
            "1.0\n"
          ],
          "name": "stdout"
        }
      ]
    }
  ]
}